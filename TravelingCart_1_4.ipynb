{
 "cells": [
  {
   "cell_type": "code",
   "execution_count": 3,
   "metadata": {},
   "outputs": [],
   "source": [
    "import json\n",
    "from itertools import chain\n",
    "import sys\n",
    "from CSRandom import CSRandom as CSRandomSlow, CSRandomLite as CSRandomFast\n",
    "import time\n",
    "from joblib import Parallel, delayed\n",
    "from collections import OrderedDict"
   ]
  },
  {
   "cell_type": "markdown",
   "metadata": {},
   "source": [
    "# Loading object data"
   ]
  },
  {
   "cell_type": "code",
   "execution_count": 4,
   "metadata": {},
   "outputs": [],
   "source": [
    "with open('ObjectInformation.json','r') as f:\n",
    "    ObjectInfo = json.load(f)['content']\n",
    "ObjectInfo = dict(zip(map(lambda x:int(x),ObjectInfo.keys()),map(lambda x: x.split('/'),ObjectInfo.values())))\n",
    "for key in ObjectInfo.keys():\n",
    "    ObjectInfo[key][1] = int(ObjectInfo[key][1])"
   ]
  },
  {
   "cell_type": "code",
   "execution_count": 5,
   "metadata": {},
   "outputs": [],
   "source": [
    "objectsOffLimits = [79, 158, 159, 160, 161, 162, 163, 261, 277, 279,\n",
    "                   305, 308, 326, 341, 413, 417, 437, 439, 447, 454, \n",
    "                   460, 645, 680, 681, 682, 688, 689, 690, 774, 775,\n",
    "                   797, 798, 799, 800, 801, 802, 803, 807, 812]\n",
    "validObjects = set()\n",
    "for key,array in ObjectInfo.items():\n",
    "    if '-' in array[3] and array[1] > 0 and '-13' not in array[3] and 'Quest' != array[3] \\\n",
    "        and 'Weeds' != array[0] and 'Minerals' not in array[3] and 'Arch' not in array[3]:\n",
    "        if key < 790 and key not in objectsOffLimits:\n",
    "            validObjects.add(key)\n",
    "\n",
    "ObjectIDFromName = dict(zip([obj[0] for obj in ObjectInfo.values()], ObjectInfo.keys()))\n",
    "ObjectIDFromName['Large EggW'] = 174\n",
    "ObjectIDFromName['Large EggB'] = 182"
   ]
  },
  {
   "cell_type": "markdown",
   "metadata": {},
   "source": [
    "# Function Defs"
   ]
  },
  {
   "cell_type": "code",
   "execution_count": 9,
   "metadata": {},
   "outputs": [],
   "source": [
    "def convertBundles(bundles):\n",
    "    # convert bundles addressed by name to IDs\n",
    "    bundle_by_ids = []\n",
    "    for bundle in bundles:\n",
    "        items = bundle[0]\n",
    "        count = bundle[1]\n",
    "        bundle_by_ids.append([[ObjectIDFromName[name] for name in items],count])\n",
    "    return bundle_by_ids"
   ]
  },
  {
   "cell_type": "code",
   "execution_count": 11,
   "metadata": {},
   "outputs": [],
   "source": [
    "def getTravelingMerchantStock_1_4(seed, CSRandom=CSRandomFast):\n",
    "    # check speed trial block below \n",
    "    # CSRandomSlow is 60% slower but it will always work\n",
    "    # CSRandomFast can only call Next 100 times due to implementation\n",
    "    # It's way faster to try the fast random until it crashes and restart\n",
    "    # than it is to run the slow one by default across many seeds\n",
    "    try:\n",
    "        random = CSRandom(seed)\n",
    "        currentStock = dict()\n",
    "        for i in range(10):\n",
    "            num = random.Next(2, 790)\n",
    "            while True:\n",
    "                num = (num+1) % 790;\n",
    "                if num in validObjects:\n",
    "                    cost = max(random.Next(1,11)* 100, ObjectInfo[num][1]*random.Next(3,6))\n",
    "                    qty = 1 if not (random.Sample() < 0.1) else 5\n",
    "                    if num not in currentStock:\n",
    "                        currentStock[num] = [cost,qty]\n",
    "                        break\n",
    "        return currentStock\n",
    "    except:\n",
    "        # we must've hit over 100 random calls, need to revert to the slow version\n",
    "        return getTravelingMerchantStock_1_4(seed, CSRandomSlow)\n"
   ]
  },
  {
   "cell_type": "code",
   "execution_count": 12,
   "metadata": {},
   "outputs": [],
   "source": [
    "def satisfyBundle(stocks, bundle):\n",
    "    all_items = set(chain.from_iterable([list(day.keys()) for day in stocks.values()]))\n",
    "    return len(all_items.intersection(bundle[0])) >= bundle[1]\n",
    "\n",
    "def satisfyAllBundles(stocks, bundles):\n",
    "    # check that every bundle has enough items found to be satisfied\n",
    "    all_items = set(chain.from_iterable([list(day.keys()) for day in stocks.values()]))\n",
    "    for bundle in bundles:\n",
    "        if len(all_items.intersection(bundle[0])) < bundle[1]:\n",
    "            return (False, bundle[0])\n",
    "    return (True,None)"
   ]
  },
  {
   "cell_type": "markdown",
   "metadata": {},
   "source": [
    "# How to search seeds fast.\n",
    "\n",
    "### What are we looking for? \n",
    "* We want a seed that has a set of items we want available within a set number of weeks\n",
    "* The game seeds the traveling cart by the uniqueIDForThisGame + DaysPlayed\n",
    "* This means that if we advance the unique id by 7, it's like we didn't check the first week on days 5 and 7, and instead did those checks later (tacking on a week at the end)\n",
    "* In this way, we can check a new seed by only computing two days worth of extra inventory, since all we have to do is remove those first two days from our data structure and append the next two days.\n",
    "* To capture all seeds, we need to create 7 seperate chains:\n",
    "    * 0->7->14->21->...\n",
    "    * 1->8->15->22->...\n",
    "    * ...\n",
    "    * 6->13->20->27->...\n",
    "* And then we evaluate each chain by traversing so many weeks forward in time"
   ]
  },
  {
   "cell_type": "code",
   "execution_count": 13,
   "metadata": {},
   "outputs": [],
   "source": [
    "def getInitialCarts(seed, days):    \n",
    "    return OrderedDict(zip(days, [getTravelingMerchantStock_1_4(seed+d) for d in days]))\n",
    "\n",
    "def rollToNextSeeds(stocks, newSeeds):\n",
    "    # replace old days with new days by popping the earliest elements\n",
    "    # removing (7*i+5 + seed, 7*(i+1) + seed) and adding two new ones\n",
    "    for _ in range(len(newSeeds)):\n",
    "        stocks.popitem(False)\n",
    "    stocks.update({seed:getTravelingMerchantStock_1_4(seed) for seed in newSeeds})\n",
    "    return stocks\n",
    "\n",
    "def find_seeds(offset, num_weeks, n_trials=50000, print_rate=10000, verbose=True):\n",
    "    days = sorted([5+7*i for i in range(num_weeks)] + [7*(i+1) for i in range(num_weeks)])\n",
    "    last_days = [d for d in days[-2:]]\n",
    "    \n",
    "    t0 = time.time()\n",
    "    # load the initial state and check it\n",
    "    valid_seeds = []\n",
    "    stock = getInitialCarts(offset, days)\n",
    "    valid, bad_bundle = satisfyAllBundles(stock, bundles_by_id)\n",
    "    if valid:\n",
    "        valid_seeds.append(offset)            \n",
    "        if verbose:\n",
    "            print(f'Valid Seed found at {offset}')\n",
    "    \n",
    "    t0_inner = time.time()\n",
    "    # loop over all new trial weeks (pushing the seed forward 7 days)\n",
    "    for s in range(n_trials):\n",
    "        curr_seed = 7*s+offset\n",
    "        # compute the new seeds to check\n",
    "        offsets = [curr_seed + 5 + last_days[1], curr_seed + 7 + last_days[1]]\n",
    "        # roll over the inventory (pop old, push new)\n",
    "        stock = rollToNextSeeds(stock, offsets)\n",
    "        # validate the result\n",
    "        valid, bad_bundle = satisfyAllBundles(stock, bundles_by_id)\n",
    "\n",
    "        if valid:\n",
    "            valid_seeds.append(curr_seed+7)\n",
    "            if verbose:\n",
    "                print(f'Valid Seed found at {curr_seed+7}')\n",
    "\n",
    "        if verbose and s % print_rate == print_rate-1:\n",
    "            t1_inner = time.time()\n",
    "            print(f'\\tSolved {print_rate} in {t1_inner-t0_inner} seconds ({(print_rate)/(t1_inner-t0_inner)} seeds/sec)')\n",
    "            t0_inner = time.time()\n",
    "\n",
    "    t1 = time.time()\n",
    "    print(f'Solved {n_trials} in {t1-t0} seconds ({(n_trials)/(t1-t0)} seeds/sec)')\n",
    "    return valid_seeds"
   ]
  },
  {
   "cell_type": "markdown",
   "metadata": {},
   "source": [
    "# Testing C# Random speeds in cart checks / second"
   ]
  },
  {
   "cell_type": "code",
   "execution_count": 14,
   "metadata": {},
   "outputs": [
    {
     "name": "stdout",
     "output_type": "stream",
     "text": [
      "Fast Trial\n",
      "Solved 10000 in 0.7218990325927734 seconds (13852.352681626387 tps)\n",
      "Slow Trial\n",
      "Solved 10000 in 1.1469871997833252 seconds (8718.493111247517 tps)\n",
      "Ratio t(slow)/t(fast): 1.5888471212709685\n"
     ]
    }
   ],
   "source": [
    "print('Fast Trial')\n",
    "n_trials = 10000\n",
    "t0 = time.time()\n",
    "[getTravelingMerchantStock_1_4(i, CSRandom=CSRandomFast) for i in range(n_trials)]\n",
    "t1 = time.time()\n",
    "print(f'Solved {n_trials} in {t1-t0} seconds ({n_trials/(t1-t0)} tps)')\n",
    "CSRandom = CSRandomSlow\n",
    "print('Slow Trial')\n",
    "n_trials = 10000\n",
    "t2 = time.time()\n",
    "[getTravelingMerchantStock_1_4(i, CSRandom=CSRandomSlow) for i in range(n_trials)]\n",
    "t3 = time.time()\n",
    "print(f'Solved {n_trials} in {t3-t2} seconds ({n_trials/(t3-t2)} tps)')\n",
    "print(f'Ratio t(slow)/t(fast): {(t3-t2)/(t1-t0)}')"
   ]
  },
  {
   "cell_type": "markdown",
   "metadata": {},
   "source": [
    "# Bundle defs"
   ]
  },
  {
   "cell_type": "code",
   "execution_count": 88,
   "metadata": {},
   "outputs": [],
   "source": [
    "bundles = [\n",
    "    [['L. Goat Milk', 'Large Milk', 'Large EggW', 'Large EggB', 'Duck Egg', 'Wool'], 5], # Animal\n",
    "    [['Cloth', 'Goat Cheese', 'Cheese'], 2], # Artisan\n",
    "    [['Fiddlehead Fern', 'Truffle', 'Maki Roll', 'Fried Egg'], 4], # Chef\n",
    "    [['Sea Urchin', 'Duck Feather'], 2], # Dye\n",
    "    [['Rabbit\\'s Foot', 'Pomegranate'], 2], # Enchanter\n",
    "    [['Catfish', 'Shad', 'Tiger Trout'], 3], # River\n",
    "    [['Largemouth Bass', 'Carp', 'Bullhead', 'Sturgeon'], 4], # Lake\n",
    "    [['Sardine', 'Tuna', 'Red Snapper', 'Tilapia'], 4], # Ocean\n",
    "    [['Walleye', 'Bream', 'Eel'], 3], # Night\n",
    "    [['Lobster', 'Crayfish', 'Shrimp', 'Snail', 'Periwinkle'], 2], #Crab pot\n",
    "    [['Pufferfish', 'Ghostfish', 'Sandfish', 'Woodskip'], 4], # Special Fish\n",
    "    [['Chub'], 1] # Field Research\n",
    "  ]\n",
    "\n",
    "bundles_by_id = convertBundles(bundles)"
   ]
  },
  {
   "cell_type": "markdown",
   "metadata": {},
   "source": [
    "# Parallel search"
   ]
  },
  {
   "cell_type": "code",
   "execution_count": 90,
   "metadata": {
    "scrolled": true
   },
   "outputs": [
    {
     "name": "stdout",
     "output_type": "stream",
     "text": [
      "Solved 350000 in 17.698412895202637 seconds (18718.166186703354 seeds/sec)\n",
      "Solved 350000 in 18.760374069213867 seconds (17712.215303924364 seeds/sec)\n",
      "Solved 350000 in 19.172518968582153 seconds (17350.336888769827 seeds/sec)\n",
      "Solved 350000 in 19.080691814422607 seconds (17429.6783813304 seeds/sec)\n",
      "Solved 350000 in 18.8000590801239 seconds (17676.714932196548 seeds/sec)\n",
      "\n",
      "\n",
      "Final Seeds\n",
      "[]\n"
     ]
    }
   ],
   "source": [
    "if True:\n",
    "    n_blocks = 20000\n",
    "    n_blocks_print = 200\n",
    "    n_trials_per_block = (2**32) // n_blocks\n",
    "else:\n",
    "    n_blocks = 5\n",
    "    n_blocks_print = 1\n",
    "    n_trials_per_block = 50000\n",
    "n_weeks_search = 24\n",
    "\n",
    "valid_seeds = []\n",
    "t0 = time.time()\n",
    "for block_id in range(n_blocks):\n",
    "    block_start = block_id * n_trials_per_block * 7\n",
    "    block_end = (block_id+1) * n_trials_per_block * 7 -1\n",
    "    block_size = block_end - block_start + 1\n",
    "\n",
    "    # this is to parallelize the computation to search even faster\n",
    "    seed_lists = Parallel(n_jobs=4)(delayed(find_seeds)(o+block_start, n_weeks_search, n_trials=n_trials_per_block, verbose=False) for o in range(7))\n",
    "    new_seeds = list(chain.from_iterable(seed_lists))\n",
    "    valid_seeds.extend(new_seeds)\n",
    "    if block_id % n_blocks_print == n_blocks_print - 1:\n",
    "        t1 = time.time()\n",
    "        print(f'Solved {block_size*n_blocks_print} in {t1-t0} seconds ({block_size*n_blocks_print/(t1-t0+1)} seeds/sec)')\n",
    "        if len(new_seeds) != 0:\n",
    "            print(sorted(new_seeds))\n",
    "            print('\\n')\n",
    "        with open('ValidSeeds.json','w') as f:\n",
    "            json.dump({'bundles':bundles, 'seeds':valid_seeds}, f)\n",
    "        t0 = time.time()\n",
    "print('\\n\\nFinal Seeds')\n",
    "print(sorted(valid_seeds))"
   ]
  },
  {
   "cell_type": "markdown",
   "metadata": {},
   "source": [
    "# Non-Parallel Search"
   ]
  },
  {
   "cell_type": "code",
   "execution_count": 38,
   "metadata": {},
   "outputs": [
    {
     "name": "stdout",
     "output_type": "stream",
     "text": [
      "Valid Seed found at 2982\n",
      "Valid Seed found at 2989\n",
      "Valid Seed found at 2996\n",
      "Valid Seed found at 3003\n",
      "Valid Seed found at 4039\n",
      "Valid Seed found at 4046\n",
      "Valid Seed found at 4053\n",
      "Valid Seed found at 4060\n",
      "Valid Seed found at 4067\n",
      "Solved 830 in 0.16550612449645996 seconds (5014.920157941062 seeds/sec)\n",
      "Valid Seed found at 3053\n",
      "Valid Seed found at 3060\n",
      "Valid Seed found at 3067\n",
      "Valid Seed found at 3074\n",
      "Valid Seed found at 3081\n",
      "Valid Seed found at 3088\n",
      "Valid Seed found at 3095\n",
      "Valid Seed found at 4502\n",
      "Valid Seed found at 4509\n",
      "Valid Seed found at 4516\n",
      "Valid Seed found at 4523\n",
      "Valid Seed found at 4530\n",
      "Valid Seed found at 4537\n",
      "Valid Seed found at 4544\n",
      "Valid Seed found at 4551\n",
      "Valid Seed found at 4558\n",
      "Valid Seed found at 4565\n",
      "Valid Seed found at 5370\n",
      "Valid Seed found at 5377\n",
      "Valid Seed found at 5384\n",
      "Valid Seed found at 5391\n",
      "Solved 830 in 0.14232802391052246 seconds (5831.599267631209 seeds/sec)\n",
      "Valid Seed found at 1290\n",
      "Valid Seed found at 1297\n",
      "Valid Seed found at 1304\n",
      "Valid Seed found at 1311\n",
      "Valid Seed found at 1318\n",
      "Valid Seed found at 1325\n",
      "Valid Seed found at 1332\n",
      "Valid Seed found at 1339\n",
      "Valid Seed found at 1346\n",
      "Valid Seed found at 2963\n",
      "Valid Seed found at 2970\n",
      "Valid Seed found at 2977\n",
      "Valid Seed found at 2984\n",
      "Valid Seed found at 2991\n",
      "Solved 830 in 0.13988399505615234 seconds (5933.487956694551 seeds/sec)\n",
      "Valid Seed found at 4532\n",
      "Valid Seed found at 4539\n",
      "Valid Seed found at 4546\n",
      "Valid Seed found at 4553\n",
      "Valid Seed found at 4560\n",
      "Valid Seed found at 4567\n",
      "Valid Seed found at 4574\n",
      "Valid Seed found at 5540\n",
      "Valid Seed found at 5547\n",
      "Solved 830 in 0.13875412940979004 seconds (5981.803954451808 seeds/sec)\n",
      "Valid Seed found at 3490\n",
      "Valid Seed found at 3497\n",
      "Valid Seed found at 3637\n",
      "Valid Seed found at 3644\n",
      "Valid Seed found at 3651\n",
      "Solved 830 in 0.1346580982208252 seconds (6163.758518547372 seeds/sec)\n",
      "Valid Seed found at 922\n",
      "Valid Seed found at 929\n",
      "Valid Seed found at 936\n",
      "Valid Seed found at 943\n",
      "Valid Seed found at 950\n",
      "Valid Seed found at 957\n",
      "Valid Seed found at 978\n",
      "Valid Seed found at 985\n",
      "Valid Seed found at 992\n",
      "Valid Seed found at 999\n",
      "Valid Seed found at 3554\n",
      "Valid Seed found at 3589\n",
      "Valid Seed found at 3596\n",
      "Valid Seed found at 3603\n",
      "Valid Seed found at 3995\n",
      "Valid Seed found at 4002\n",
      "Valid Seed found at 4009\n",
      "Valid Seed found at 4016\n",
      "Valid Seed found at 4023\n",
      "Valid Seed found at 4030\n",
      "Valid Seed found at 4037\n",
      "Valid Seed found at 4044\n",
      "Valid Seed found at 4051\n",
      "Valid Seed found at 4058\n",
      "Valid Seed found at 4065\n",
      "Valid Seed found at 4079\n",
      "Valid Seed found at 4086\n",
      "Valid Seed found at 4093\n",
      "Valid Seed found at 4100\n",
      "Valid Seed found at 4107\n",
      "Valid Seed found at 5766\n",
      "Valid Seed found at 5773\n",
      "Valid Seed found at 5780\n",
      "Valid Seed found at 5801\n",
      "Valid Seed found at 5808\n",
      "Valid Seed found at 5815\n",
      "Solved 830 in 0.1491849422454834 seconds (5563.564174152626 seeds/sec)\n",
      "Valid Seed found at 3639\n",
      "Valid Seed found at 3646\n",
      "Valid Seed found at 3653\n",
      "Valid Seed found at 3660\n",
      "Valid Seed found at 3667\n",
      "Valid Seed found at 3674\n",
      "Valid Seed found at 3681\n",
      "Solved 830 in 0.15425992012023926 seconds (5380.529170202144 seeds/sec)\n",
      "Solved 5810 in 1.0252211093902588 seconds (5667.07020250046 seeds/sec)\n",
      "[2982, 2989, 2996, 3003, 4039, 4046, 4053, 4060, 4067, 3053, 3060, 3067, 3074, 3081, 3088, 3095, 4502, 4509, 4516, 4523, 4530, 4537, 4544, 4551, 4558, 4565, 5370, 5377, 5384, 5391, 1290, 1297, 1304, 1311, 1318, 1325, 1332, 1339, 1346, 2963, 2970, 2977, 2984, 2991, 4532, 4539, 4546, 4553, 4560, 4567, 4574, 5540, 5547, 3490, 3497, 3637, 3644, 3651, 922, 929, 936, 943, 950, 957, 978, 985, 992, 999, 3554, 3589, 3596, 3603, 3995, 4002, 4009, 4016, 4023, 4030, 4037, 4044, 4051, 4058, 4065, 4079, 4086, 4093, 4100, 4107, 5766, 5773, 5780, 5801, 5808, 5815, 3639, 3646, 3653, 3660, 3667, 3674, 3681]\n"
     ]
    }
   ],
   "source": [
    "n_trials_per_lane = 830\n",
    "print_rate = 10000\n",
    "n_weeks_search = 24\n",
    "\n",
    "valid_seeds = []\n",
    "t0 = time.time()\n",
    "for offset in range(7):\n",
    "    seeds = find_seeds(offset, n_weeks_search, \n",
    "                       n_trials=n_trials_per_lane, \n",
    "                       print_rate=print_rate,\n",
    "                       verbose=True)\n",
    "    valid_seeds.extend(seeds)\n",
    "t1 = time.time()\n",
    "print(f'Solved {n_trials_per_lane*7} in {t1-t0} seconds ({n_trials_per_lane*7/(t1-t0)} seeds/sec)')\n",
    "print(valid_seeds)"
   ]
  },
  {
   "cell_type": "code",
   "execution_count": 37,
   "metadata": {},
   "outputs": [
    {
     "data": {
      "text/plain": [
       "5808"
      ]
     },
     "execution_count": 37,
     "metadata": {},
     "output_type": "execute_result"
    }
   ],
   "source": [
    "max(valid_seeds)"
   ]
  },
  {
   "cell_type": "code",
   "execution_count": 35,
   "metadata": {},
   "outputs": [
    {
     "data": {
      "text/plain": [
       "830.7142857142857"
      ]
     },
     "execution_count": 35,
     "metadata": {},
     "output_type": "execute_result"
    }
   ],
   "source": [
    "5815/7"
   ]
  },
  {
   "cell_type": "code",
   "execution_count": 34,
   "metadata": {},
   "outputs": [
    {
     "data": {
      "text/plain": [
       "[5773, 5780, 5801, 5808, 5815]"
      ]
     },
     "execution_count": 34,
     "metadata": {},
     "output_type": "execute_result"
    }
   ],
   "source": [
    "sorted(valid_seeds)[-5:]"
   ]
  },
  {
   "cell_type": "code",
   "execution_count": null,
   "metadata": {},
   "outputs": [],
   "source": []
  }
 ],
 "metadata": {
  "kernelspec": {
   "display_name": "Python 3",
   "language": "python",
   "name": "python3"
  },
  "language_info": {
   "codemirror_mode": {
    "name": "ipython",
    "version": 3
   },
   "file_extension": ".py",
   "mimetype": "text/x-python",
   "name": "python",
   "nbconvert_exporter": "python",
   "pygments_lexer": "ipython3",
   "version": "3.7.3"
  }
 },
 "nbformat": 4,
 "nbformat_minor": 2
}
