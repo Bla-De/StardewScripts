{
 "cells": [
  {
   "cell_type": "code",
   "execution_count": 4,
   "metadata": {
    "collapsed": true
   },
   "outputs": [],
   "source": [
    "%matplotlib inline\n",
    "import numpy as np\n",
    "import matplotlib.pyplot as plt"
   ]
  },
  {
   "cell_type": "code",
   "execution_count": 79,
   "metadata": {},
   "outputs": [],
   "source": [
    "dim_x = 9\n",
    "dim_y = 10\n",
    "def init_floor():\n",
    "    floor_arr = np.zeros((dim_x, dim_y), dtype=int)\n",
    "    floor_arr[0:3,:] = -1\n",
    "    floor_arr[:,0] = -1\n",
    "    floor_arr[3,0:3] = -1\n",
    "    floor_arr[3,-2:] = -1\n",
    "    return floor_arr"
   ]
  },
  {
   "cell_type": "code",
   "execution_count": 80,
   "metadata": {},
   "outputs": [],
   "source": [
    "def plot_cave(floor, day):\n",
    "    print('Day {}'.format(day))\n",
    "    floor_fill = 1*(floor > 0)\n",
    "    fig,ax = plt.subplots(1,2)\n",
    "    ax[0].imshow(floor_fill - (floor_arr == -1))\n",
    "    ax[1].imshow(floor)\n",
    "    plt.show()"
   ]
  },
  {
   "cell_type": "code",
   "execution_count": 81,
   "metadata": {},
   "outputs": [],
   "source": [
    "def select_item():\n",
    "    parentSheetIndex = 410\n",
    "    r = np.random.randint(5)\n",
    "    if r == 0:\n",
    "        parentSheetIndex = 296\n",
    "    elif r == 1:\n",
    "        parentSheetIndex = 396\n",
    "    elif r == 2:\n",
    "        parentSheetIndex = 406\n",
    "    elif r == 3:\n",
    "        parentSheetIndex = 410\n",
    "    elif r == 4:\n",
    "        if np.random.rand() < 0.75:\n",
    "            if np.random.rand() > 0.1:\n",
    "                parentSheetIndex = np.random.randint(634, 639)\n",
    "            else:\n",
    "                parentSheetIndex = 613\n",
    "    return parentSheetIndex\n",
    "\n",
    "def is_tile_clear(floor, i, j):\n",
    "    if floor[i, j] == 0:\n",
    "        return True\n",
    "    return False\n",
    "\n",
    "def day_update(floor):\n",
    "    while np.random.rand() < 0.5:\n",
    "        item = select_item()\n",
    "        loc_x = np.random.randint(dim_x)\n",
    "        loc_y = np.random.randint(dim_y)\n",
    "        if is_tile_clear(floor, loc_x, loc_y):\n",
    "            floor[loc_x, loc_y] = item"
   ]
  },
  {
   "cell_type": "code",
   "execution_count": 82,
   "metadata": {
    "scrolled": true
   },
   "outputs": [
    {
     "name": "stdout",
     "output_type": "stream",
     "text": [
      "Day 0\n"
     ]
    },
    {
     "data": {
      "image/png": "[encoded data removed]",
      "text/plain": [
       "<matplotlib.figure.Figure at 0x10856c8d0>"
      ]
     },
     "metadata": {},
     "output_type": "display_data"
    },
    {
     "name": "stdout",
     "output_type": "stream",
     "text": [
      "Day 2\n"
     ]
    },
    {
     "data": {
      "image/png": "[encoded data removed]",
      "text/plain": [
       "<matplotlib.figure.Figure at 0x10857ae48>"
      ]
     },
     "metadata": {},
     "output_type": "display_data"
    },
    {
     "name": "stdout",
     "output_type": "stream",
     "text": [
      "Day 7\n"
     ]
    },
    {
     "data": {
      "image/png": "[encoded data removed]",
      "text/plain": [
       "<matplotlib.figure.Figure at 0x10846be80>"
      ]
     },
     "metadata": {},
     "output_type": "display_data"
    },
    {
     "name": "stdout",
     "output_type": "stream",
     "text": [
      "Day 9\n"
     ]
    },
    {
     "data": {
      "image/png": "[encoded data removed]",
      "text/plain": [
       "<matplotlib.figure.Figure at 0x108a67b00>"
      ]
     },
     "metadata": {},
     "output_type": "display_data"
    }
   ],
   "source": [
    "floor_arr = init_floor()\n",
    "plot_cave(floor_arr, 0)\n",
    "for i in range(1,11):\n",
    "    floor_arr_old = floor_arr.copy()\n",
    "    day_update(floor_arr)\n",
    "    if not np.array_equal(floor_arr_old, floor_arr):\n",
    "        plot_cave(floor_arr,i)"
   ]
  },
  {
   "cell_type": "code",
   "execution_count": 86,
   "metadata": {},
   "outputs": [],
   "source": [
    "def simulate_harvest(days_to_harvest):\n",
    "    floor_arr = init_floor()\n",
    "    for i in range(days_to_harvest):\n",
    "        day_update(floor_arr)\n",
    "    items = {}\n",
    "    for item in np.unique(floor_arr):\n",
    "        if item == -1 or item == 0:\n",
    "            continue\n",
    "        items[item] = np.sum(floor_arr[:] == item)\n",
    "    return items"
   ]
  },
  {
   "cell_type": "code",
   "execution_count": 188,
   "metadata": {},
   "outputs": [
    {
     "name": "stdout",
     "output_type": "stream",
     "text": [
      "Harvest every 0 days, avg find:0.549, avg apple:0.008 avg fruit:0.015\n",
      "Harvest every 1 days, avg find:1.093, avg apple:0.016 avg fruit:0.030\n",
      "Harvest every 2 days, avg find:1.629, avg apple:0.025 avg fruit:0.044\n",
      "Harvest every 3 days, avg find:2.162, avg apple:0.032 avg fruit:0.059\n",
      "Harvest every 4 days, avg find:2.687, avg apple:0.041 avg fruit:0.073\n",
      "Harvest every 5 days, avg find:3.208, avg apple:0.048 avg fruit:0.086\n",
      "Harvest every 6 days, avg find:3.722, avg apple:0.056 avg fruit:0.101\n",
      "Harvest every 7 days, avg find:4.233, avg apple:0.064 avg fruit:0.114\n",
      "Harvest every 8 days, avg find:4.734, avg apple:0.070 avg fruit:0.128\n",
      "Harvest every 9 days, avg find:5.232, avg apple:0.079 avg fruit:0.141\n",
      "Harvest every 10 days, avg find:5.726, avg apple:0.085 avg fruit:0.155\n",
      "Harvest every 11 days, avg find:6.210, avg apple:0.094 avg fruit:0.168\n",
      "Harvest every 12 days, avg find:6.687, avg apple:0.101 avg fruit:0.180\n",
      "Harvest every 13 days, avg find:7.164, avg apple:0.108 avg fruit:0.193\n",
      "Harvest every 14 days, avg find:7.642, avg apple:0.115 avg fruit:0.205\n",
      "Harvest every 15 days, avg find:8.101, avg apple:0.122 avg fruit:0.218\n",
      "Harvest every 16 days, avg find:8.563, avg apple:0.129 avg fruit:0.230\n",
      "Harvest every 17 days, avg find:9.017, avg apple:0.136 avg fruit:0.243\n",
      "Harvest every 18 days, avg find:9.461, avg apple:0.141 avg fruit:0.256\n",
      "Harvest every 19 days, avg find:9.914, avg apple:0.149 avg fruit:0.268\n",
      "Harvest every 20 days, avg find:10.353, avg apple:0.155 avg fruit:0.280\n",
      "Harvest every 21 days, avg find:10.788, avg apple:0.162 avg fruit:0.292\n",
      "Harvest every 22 days, avg find:11.220, avg apple:0.168 avg fruit:0.302\n",
      "Harvest every 23 days, avg find:11.642, avg apple:0.174 avg fruit:0.315\n",
      "Harvest every 24 days, avg find:12.064, avg apple:0.181 avg fruit:0.325\n",
      "Harvest every 25 days, avg find:12.483, avg apple:0.187 avg fruit:0.336\n",
      "Harvest every 26 days, avg find:12.896, avg apple:0.193 avg fruit:0.348\n",
      "Harvest every 27 days, avg find:13.303, avg apple:0.200 avg fruit:0.359\n",
      "Harvest every 28 days, avg find:13.717, avg apple:0.206 avg fruit:0.370\n",
      "Harvest every 29 days, avg find:14.110, avg apple:0.212 avg fruit:0.381\n",
      "Harvest every 30 days, avg find:14.501, avg apple:0.217 avg fruit:0.391\n",
      "Harvest every 31 days, avg find:14.897, avg apple:0.223 avg fruit:0.402\n",
      "Harvest every 32 days, avg find:15.282, avg apple:0.229 avg fruit:0.412\n",
      "Harvest every 33 days, avg find:15.661, avg apple:0.235 avg fruit:0.422\n",
      "Harvest every 34 days, avg find:16.035, avg apple:0.240 avg fruit:0.433\n",
      "Harvest every 35 days, avg find:16.408, avg apple:0.246 avg fruit:0.443\n",
      "Harvest every 36 days, avg find:16.776, avg apple:0.252 avg fruit:0.454\n",
      "Harvest every 37 days, avg find:17.143, avg apple:0.256 avg fruit:0.464\n",
      "Harvest every 38 days, avg find:17.504, avg apple:0.263 avg fruit:0.473\n",
      "Harvest every 39 days, avg find:17.857, avg apple:0.267 avg fruit:0.483\n",
      "Harvest every 40 days, avg find:18.215, avg apple:0.273 avg fruit:0.493\n",
      "Harvest every 41 days, avg find:18.567, avg apple:0.278 avg fruit:0.503\n",
      "Harvest every 42 days, avg find:18.904, avg apple:0.284 avg fruit:0.510\n",
      "Harvest every 43 days, avg find:19.249, avg apple:0.288 avg fruit:0.518\n",
      "Harvest every 44 days, avg find:19.594, avg apple:0.293 avg fruit:0.529\n",
      "Harvest every 45 days, avg find:19.926, avg apple:0.298 avg fruit:0.537\n",
      "Harvest every 46 days, avg find:20.254, avg apple:0.304 avg fruit:0.545\n",
      "Harvest every 47 days, avg find:20.580, avg apple:0.308 avg fruit:0.556\n",
      "Harvest every 48 days, avg find:20.906, avg apple:0.313 avg fruit:0.564\n",
      "Harvest every 49 days, avg find:21.230, avg apple:0.319 avg fruit:0.574\n",
      "Harvest every 50 days, avg find:21.541, avg apple:0.322 avg fruit:0.581\n",
      "Harvest every 51 days, avg find:21.861, avg apple:0.328 avg fruit:0.590\n",
      "Harvest every 52 days, avg find:22.160, avg apple:0.332 avg fruit:0.599\n",
      "Harvest every 53 days, avg find:22.469, avg apple:0.337 avg fruit:0.605\n",
      "Harvest every 54 days, avg find:22.774, avg apple:0.341 avg fruit:0.614\n",
      "Harvest every 55 days, avg find:23.066, avg apple:0.346 avg fruit:0.622\n"
     ]
    }
   ],
   "source": [
    "item_list = [410,296,396,406,634,635,636,637,638,613]\n",
    "n_trials = 1000000\n",
    "n_days_harvest = 56\n",
    "item_counts = np.zeros((n_days_harvest,len(item_list)))\n",
    "for days in range(0,n_days_harvest):\n",
    "    harvests = {410:0, 296:0, 396:0, 406:0, 634:0, 635:0, 636:0, 637:0, 638:0, 613:0}\n",
    "    for n in range(n_trials):\n",
    "        items = simulate_harvest(days+1)\n",
    "        for idx,item in enumerate(item_list):\n",
    "            try:\n",
    "                item_counts[days, idx] = item_counts[days, idx] + items[item]/n_trials\n",
    "            except:\n",
    "                pass\n",
    "    print('Harvest every {0} days, avg find:{1:.3f}, avg apple:{2:.3f} avg fruit:{3:.3f}'.format(\n",
    "        days,\n",
    "        sum(item_counts[days,:]),\n",
    "        item_counts[days,-1],\n",
    "        item_counts[days,-2]\n",
    "    ))"
   ]
  },
  {
   "cell_type": "code",
   "execution_count": 189,
   "metadata": {},
   "outputs": [
    {
     "data": {
      "image/png": "[encoded data removed]",
      "text/plain": [
       "<matplotlib.figure.Figure at 0x10950d748>"
      ]
     },
     "metadata": {},
     "output_type": "display_data"
    }
   ],
   "source": [
    "day_list = list(range(1,n_days_harvest+1))\n",
    "for item in range(4,len(item_list)):\n",
    "    fig = plt.figure\n",
    "    plt.scatter(day_list, item_counts[:, item])\n",
    "plt.legend(['Apricot', 'Orange', 'Peach', 'Pomegranate','Cherry','Apple'])\n",
    "plt.xlabel('# Days Between Harvests')\n",
    "plt.ylabel('# Found/Harvest')\n",
    "plt.show()"
   ]
  },
  {
   "cell_type": "code",
   "execution_count": 190,
   "metadata": {},
   "outputs": [
    {
     "data": {
      "image/png": "[encoded data removed]",
      "text/plain": [
       "<matplotlib.figure.Figure at 0x109a855c0>"
      ]
     },
     "metadata": {},
     "output_type": "display_data"
    }
   ],
   "source": [
    "n_days_total = 112\n",
    "day_list = list(range(1,n_days_harvest+1))\n",
    "for item in range(4,len(item_list)):\n",
    "#     fig = plt.figure\n",
    "    plt.scatter(day_list, item_counts[:, item] * n_days_total/day_list)\n",
    "plt.legend(['Apricot', 'Orange', 'Peach', 'Pomegranate','Cherry','Apple'])\n",
    "plt.xlabel('# Days Between Harvests')\n",
    "plt.ylabel('# Found/{} days'.format(n_days_total))\n",
    "plt.show()"
   ]
  },
  {
   "cell_type": "code",
   "execution_count": 192,
   "metadata": {},
   "outputs": [
    {
     "data": {
      "text/plain": [
       "array([ 0.932288  ,  0.906416  ,  0.914704  ,  0.904148  ,  0.9089024 ,\n",
       "        0.89441333,  0.894016  ,  0.889882  ,  0.87542933,  0.8813056 ,\n",
       "        0.86915055,  0.872872  ,  0.86628554,  0.86172   ,  0.85913707,\n",
       "        0.851508  ,  0.84962541,  0.84342844,  0.83364547,  0.832048  ,\n",
       "        0.82852267,  0.82701309,  0.82021983,  0.81207933,  0.8117536 ,\n",
       "        0.80623631,  0.800016  ,  0.7992    ,  0.79670234,  0.79077227,\n",
       "        0.7841409 ,  0.779569  ,  0.77883103,  0.77325459,  0.7687328 ,\n",
       "        0.76528978,  0.76394595,  0.75594105,  0.75520164,  0.7486724 ,\n",
       "        0.74598283,  0.742096  ,  0.74080447,  0.73431527,  0.73036444,\n",
       "        0.72653426,  0.72452562,  0.71893967,  0.714656  ,  0.71547616,\n",
       "        0.70796957,  0.70668338,  0.70140106,  0.69841333,  0.69417396,\n",
       "        0.692448  ])"
      ]
     },
     "execution_count": 192,
     "metadata": {},
     "output_type": "execute_result"
    }
   ],
   "source": [
    "day_list\n",
    "item_counts[:,-1]*n_days_total/day_list"
   ]
  },
  {
   "cell_type": "code",
   "execution_count": null,
   "metadata": {
    "collapsed": true
   },
   "outputs": [],
   "source": []
  }
 ],
 "metadata": {
  "kernelspec": {
   "display_name": "Python 3",
   "language": "python",
   "name": "python3"
  },
  "language_info": {
   "codemirror_mode": {
    "name": "ipython",
    "version": 3
   },
   "file_extension": ".py",
   "mimetype": "text/x-python",
   "name": "python",
   "nbconvert_exporter": "python",
   "pygments_lexer": "ipython3",
   "version": "3.7.3"
  }
 },
 "nbformat": 4,
 "nbformat_minor": 2
}
